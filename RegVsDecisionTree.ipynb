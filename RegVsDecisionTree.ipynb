{
 "cells": [
  {
   "cell_type": "code",
   "execution_count": 63,
   "id": "28de7d7c",
   "metadata": {},
   "outputs": [
    {
     "name": "stdout",
     "output_type": "stream",
     "text": [
      "he\n"
     ]
    }
   ],
   "source": [
    "import pandas as pd\n",
    "#import pickle\n",
    "from sklearn.model_selection import train_test_split\n",
    "from sklearn.tree import DecisionTreeRegressor\n",
    "from sklearn import preprocessing\n",
    "from sklearn.ensemble import RandomForestRegressor\n",
    "\n",
    "data = pd.read_csv(r'DATASETS\\Entities.csv')\n",
    "print("he")"
   ]
  },
  {
   "cell_type": "code",
   "execution_count": null,
   "id": "d57047a6",
   "metadata": {},
   "outputs": [],
   "source": [
    "data.head()"
   ]
  },
  {
   "cell_type": "code",
   "execution_count": null,
   "id": "70b9d2c1",
   "metadata": {},
   "outputs": [],
   "source": [
    "label_enco = preprocessing.LabelEncoder()"
   ]
  },
  {
   "cell_type": "code",
   "execution_count": 65,
   "id": "5d48aa46",
   "metadata": {},
   "outputs": [],
   "source": [
    "data['property_type']= label_enco.fit_transform(data['property_type'])\n",
    "data['location']= label_enco.fit_transform(data['location'])\n",
    "data['city']= label_enco.fit_transform(data['city'])\n",
    "data['province_name']= label_enco.fit_transform(data['province_name'])\n",
    "data['date_added']= label_enco.fit_transform(data['date_added'])"
   ]
  },
  {
   "cell_type": "code",
   "execution_count": null,
   "id": "98c9b3fc",
   "metadata": {},
   "outputs": [],
   "source": [
    "data.head()"
   ]
  },
  {
   "cell_type": "code",
   "execution_count": null,
   "id": "fff9598e",
   "metadata": {},
   "outputs": [],
   "source": [
    "y = data['price']\n",
    "del data['price']\n",
    "x=data"
   ]
  },
  {
   "cell_type": "code",
   "execution_count": null,
   "id": "f0c94e06",
   "metadata": {},
   "outputs": [],
   "source": [
    "x_trainset,x_testset,y_trainset,y_testset = train_test_split(x, y, test_size=0.2, random_state=9)"
   ]
  },
  {
   "cell_type": "code",
   "execution_count": null,
   "id": "6140c7d2",
   "metadata": {},
   "outputs": [],
   "source": [
    "from sklearn.ensemble import RandomForestRegressor\n",
    "desitiontree =  DecisionTreeRegressor(criterion=\"friedman_mse\", max_depth = 5)\n",
    "randomforest =  RandomForestRegressor(n_estimators=50)"
   ]
  },
  {
   "cell_type": "code",
   "execution_count": null,
   "id": "b5aaf642",
   "metadata": {},
   "outputs": [],
   "source": [
    "desitiontree.fit(x_trainset,y_trainset)"
   ]
  },
  {
   "cell_type": "code",
   "execution_count": null,
   "id": "774df0d2",
   "metadata": {},
   "outputs": [],
   "source": [
    "randomforest.fit(x_trainset,y_trainset)"
   ]
  },
  {
   "cell_type": "code",
   "execution_count": null,
   "id": "7a5bdc16",
   "metadata": {},
   "outputs": [],
   "source": [
    "predTree = desitiontree.predict(x_testset)"
   ]
  },
  {
   "cell_type": "code",
   "execution_count": null,
   "id": "e7f6db3d",
   "metadata": {},
   "outputs": [],
   "source": [
    "predTree1 = randomforest.predict(x_testset)"
   ]
  },
  {
   "cell_type": "code",
   "execution_count": null,
   "id": "11d03ec5",
   "metadata": {},
   "outputs": [],
   "source": [
    "from sklearn.metrics import precision_score"
   ]
  },
  {
   "cell_type": "code",
   "execution_count": null,
   "id": "7fa4a7dc",
   "metadata": {},
   "outputs": [],
   "source": [
    "desitiontree.score(x_trainset,y_trainset)"
   ]
  },
  {
   "cell_type": "code",
   "execution_count": null,
   "id": "f89858bb",
   "metadata": {},
   "outputs": [],
   "source": [
    "randomforest.score(x_trainset,y_trainset)"
   ]
  },
  {
   "cell_type": "code",
   "execution_count": null,
   "id": "46003149",
   "metadata": {},
   "outputs": [],
   "source": [
    "desitiontree.score(x_testset,y_testset)"
   ]
  },
  {
   "cell_type": "code",
   "execution_count": null,
   "id": "236cf254",
   "metadata": {},
   "outputs": [],
   "source": [
    "randomforest.score(x_testset,y_testset)"
   ]
  },
  {
   "cell_type": "code",
   "execution_count": null,
   "id": "f58fcf63",
   "metadata": {},
   "outputs": [],
   "source": [
    "desitiontree.predict(x_testset)"
   ]
  },
  {
   "cell_type": "code",
   "execution_count": null,
   "id": "36fe421d",
   "metadata": {},
   "outputs": [],
   "source": [
    "print(y_testset)"
   ]
  },
  {
   "cell_type": "code",
   "execution_count": null,
   "id": "171c5508",
   "metadata": {},
   "outputs": [],
   "source": [
    "randomforest.predict(x_testset)"
   ]
  }
 ],
 "metadata": {
  "kernelspec": {
   "display_name": "Python 3 (ipykernel)",
   "language": "python",
   "name": "python3"
  },
  "language_info": {
   "codemirror_mode": {
    "name": "ipython",
    "version": 3
   },
   "file_extension": ".py",
   "mimetype": "text/x-python",
   "name": "python",
   "nbconvert_exporter": "python",
   "pygments_lexer": "ipython3",
   "version": "3.11.0"
  }
 },
 "nbformat": 4,
 "nbformat_minor": 5
}
